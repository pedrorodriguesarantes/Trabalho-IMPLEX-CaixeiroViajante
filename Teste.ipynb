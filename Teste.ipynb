{
 "cells": [
  {
   "cell_type": "code",
   "execution_count": 1,
   "metadata": {},
   "outputs": [],
   "source": [
    "from math import sqrt\n",
    "\n",
    "def distancia_euclidiana(vertice_A, vertice_B):\n",
    "    distancia1 = (vertice_A.x - vertice_B.x) * (vertice_A.x - vertice_B.x) \n",
    "    distancia2 = (vertice_A.y - vertice_B.y) * (vertice_A.y - vertice_B.y)\n",
    "    soma = distancia1 + distancia2\n",
    "    \n",
    "    return sqrt(soma)"
   ]
  },
  {
   "cell_type": "code",
   "execution_count": 2,
   "metadata": {},
   "outputs": [],
   "source": [
    "class Vertice:\n",
    "    def __init__(self, coordenada_x, coordenada_y, conteudo):\n",
    "        self.x = coordenada_x\n",
    "        self.y = coordenada_y\n",
    "        self.conteudo = conteudo\n",
    "\n",
    "class Aresta:\n",
    "    def __init__(self, vertice_A, vertice_B):\n",
    "        self.A = vertice_A\n",
    "        self.B = vertice_B\n",
    "        self.distancia = distancia_euclidiana(vertice_A, vertice_B)\n",
    "\n",
    "a = Vertice(10, 10, 1)\n",
    "b = Vertice(20, 20, 1)\n"
   ]
  },
  {
   "cell_type": "code",
   "execution_count": 3,
   "metadata": {},
   "outputs": [],
   "source": [
    "aresta = Aresta(a, b)"
   ]
  },
  {
   "cell_type": "code",
   "execution_count": 4,
   "metadata": {},
   "outputs": [
    {
     "data": {
      "text/plain": [
       "14.142135623730951"
      ]
     },
     "execution_count": 4,
     "metadata": {},
     "output_type": "execute_result"
    }
   ],
   "source": [
    "aresta.distancia"
   ]
  }
 ],
 "metadata": {
  "kernelspec": {
   "display_name": "Python 3.10.5 64-bit",
   "language": "python",
   "name": "python3"
  },
  "language_info": {
   "codemirror_mode": {
    "name": "ipython",
    "version": 3
   },
   "file_extension": ".py",
   "mimetype": "text/x-python",
   "name": "python",
   "nbconvert_exporter": "python",
   "pygments_lexer": "ipython3",
   "version": "3.10.5"
  },
  "orig_nbformat": 4,
  "vscode": {
   "interpreter": {
    "hash": "3763ad9f89648d847e6f5401e1219410b4a0054c5a073f5da0c68452446768ec"
   }
  }
 },
 "nbformat": 4,
 "nbformat_minor": 2
}
